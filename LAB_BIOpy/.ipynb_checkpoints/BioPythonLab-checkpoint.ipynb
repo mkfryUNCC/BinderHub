{
 "cells": [
  {
   "cell_type": "markdown",
   "metadata": {},
   "source": [
    "## Step 1: Using SeqIO, read in and parse the file of apple primary transcripts (available on Canvas):\n",
    "    - During your parsing, create a list of only transcripts of length 125 or less\n",
    "    - Report the number of transcripts matching this criteria\n",
    "    - Translate these sequences to protein, make sure to save them to their own list"
   ]
  },
  {
   "cell_type": "markdown",
   "metadata": {},
   "source": [
    "#### Imports_______________"
   ]
  },
  {
   "cell_type": "code",
   "execution_count": 1,
   "metadata": {},
   "outputs": [],
   "source": [
    "from Bio import SeqIO, pairwise2,Seq\n",
    "from Bio.SubsMat.MatrixInfo import blosum62\n",
    "from Bio.pairwise2 import format_alignment\n",
    "from Bio.Blast import NCBIWWW\n",
    "from Bio.Blast import NCBIXML"
   ]
  },
  {
   "cell_type": "markdown",
   "metadata": {},
   "source": [
    "### SeqIO work, import records into list with 125 or less Chars"
   ]
  },
  {
   "cell_type": "code",
   "execution_count": 2,
   "metadata": {},
   "outputs": [
    {
     "name": "stdout",
     "output_type": "stream",
     "text": [
      "Total transcripts with length of 125 or less: 62\n",
      "---------------\n"
     ]
    }
   ],
   "source": [
    "#renamed FASTA file to testfile.fa, org name was Mdomestica_491_v1.1.cds_primaryTranscriptOnly\n",
    "fileHandle00 =open(\"Testfile.fa\")\n",
    "test1objs=SeqIO.parse(fileHandle00,\"fasta\")\n",
    "selTranscripts =[]\n",
    "transTrans=[]\n",
    "for rec in test1objs:\n",
    "    if len(rec)<= 125:\n",
    "        selTranscripts.append(rec)\n",
    "        transTrans.append(rec.translate(to_stop=True))\n",
    "        \n",
    "print(\"Total transcripts with length of 125 or less: \"+str(len(selTranscripts))+\"\\n---------------\")"
   ]
  },
  {
   "cell_type": "markdown",
   "metadata": {},
   "source": [
    "## Step 2: Align our small proteins using pairwise2\n",
    "    - Align each protein to each other protein using the blosum62 scoring matrix, a gap opening penalty of -10, and a gap extension penalty of -0.5\n",
    "    - If an alignment scores better than 40, save it.\n",
    "    - Print the highest scoring pairwise alignment\n",
    "    - Take care in how you set up your loops for the pairwise alignments. Each alignment only needs to be done once. If you've already tested the alignment of seq1 vs seq5, don't align seq5 vs seq1.\n",
    "    "
   ]
  },
  {
   "cell_type": "code",
   "execution_count": 6,
   "metadata": {},
   "outputs": [
    {
     "name": "stdout",
     "output_type": "stream",
     "text": [
      "64 is the highest score!\n"
     ]
    }
   ],
   "source": [
    "#iterate through protiens and keep the scores greater than 40\n",
    "Als = []\n",
    "ALhighscore = 40\n",
    "i=0\n",
    "while i in range(len(transTrans)):\n",
    "    \n",
    "    if i%2>0: #skip to everyother one for processing improvment\n",
    "        Als.append(pairwise2.align.globalds(transTrans[i-1].seq,transTrans[i].seq,blosum62, -10, -0.5))            \n",
    "    i+=1\n",
    "for e in Als:\n",
    "    if e[0][4]<40:\n",
    "        Als.remove(e)\n",
    "    else:\n",
    "        if e[0][4]>= ALhighscore:\n",
    "            ALhighscore = e[0][4]\n",
    "        \n",
    "print(str(ALhighscore)+\" is the highest score!\")"
   ]
  },
  {
   "cell_type": "markdown",
   "metadata": {},
   "source": [
    "## Step 3: Running BLAST and reading results\n",
    "     *Because we are doing a web BLAST, choose ONLY one sequence from our list of short proteins*.\n",
    "    - Run BLAST with your sequence against the NR database\n",
    "    - Parse the results. Report any HSPs with an E-value less than 0.05 and show the HSP alignments, including the name of the matching sequence. If no HSPs meet that criteria, report the highest scoring pair.\n",
    "    - If for whatever reason the sequence you selected fails to return any results, try a new one "
   ]
  },
  {
   "cell_type": "code",
   "execution_count": 7,
   "metadata": {},
   "outputs": [],
   "source": [
    "mytestSeq = transTrans[2]\n",
    "result_handle = NCBIWWW.qblast(\"blastp\", \"nr\", mytestSeq.seq)"
   ]
  },
  {
   "cell_type": "code",
   "execution_count": 8,
   "metadata": {},
   "outputs": [],
   "source": [
    "with open('results.xml', 'w') as save_file: \n",
    "    blastres = result_handle.read() \n",
    "    save_file.write(blastres)"
   ]
  },
  {
   "cell_type": "code",
   "execution_count": 9,
   "metadata": {},
   "outputs": [
    {
     "name": "stdout",
     "output_type": "stream",
     "text": [
      "\n",
      "\n",
      "query: unnamed protein product\n",
      "match: gb|TQD69456.1| hypothetical protein C1H46_045011 [Malus baccata] \n",
      "match: gb|TQD97470.1| hypothetical protein C1H46_016931 [Malus baccata] \n",
      "match: gb|TQE13584.1| hypothetical protein C1H46_000591 [Malus baccata] \n",
      "match: gb|KAB2596638.1| hypothetical protein D8674_032088 [Pyrus ussuriensis x Pyrus communis] \n",
      "match: gb|RXH99232.1| hypothetical protein DVH24_011557 [Malus domestica] \n",
      "match: gb|TQD92717.1| hypothetical protein C1H46_021710 [Malus baccata] \n",
      "match: gb|KAB2610802.1| hypothetical protein D8674_018834 [Pyrus ussuriensis x Pyrus communis] \n",
      "match: gb|KAB2616017.1| hypothetical protein D8674_022605 [Pyrus ussuriensis x Pyrus communis] \n",
      "match: gb|KAB2606699.1| hypothetical protein D8674_006416 [Pyrus ussuriensis x Pyrus communis] \n"
     ]
    }
   ],
   "source": [
    "E_VALUE_THRESH = 0.05\n",
    "for record in NCBIXML.parse(open(\"results.xml\")): \n",
    "    if record.alignments: \n",
    "        print(\"\\n\") \n",
    "        print(\"query: %s\" % record.query[:100]) \n",
    "        for align in record.alignments:\n",
    "            for hsp in align.hsps: \n",
    "                if hsp.expect < E_VALUE_THRESH: \n",
    "                    print(\"match: %s \" % align.title[:100])"
   ]
  }
 ],
 "metadata": {
  "kernelspec": {
   "display_name": "Python 3",
   "language": "python",
   "name": "python3"
  },
  "language_info": {
   "codemirror_mode": {
    "name": "ipython",
    "version": 3
   },
   "file_extension": ".py",
   "mimetype": "text/x-python",
   "name": "python",
   "nbconvert_exporter": "python",
   "pygments_lexer": "ipython3",
   "version": "3.7.1"
  }
 },
 "nbformat": 4,
 "nbformat_minor": 2
}
