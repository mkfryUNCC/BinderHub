{
 "cells": [
  {
   "cell_type": "markdown",
   "metadata": {},
   "source": [
    "## Pandas Lab 1\n",
    "For this lab, you will need to read in the provided FASTA file and generate a DataFrame containing the following information for each sequence record:\n",
    "1. Sequence Length\n",
    "2. GC content\n",
    "3. Begins with start codon?\n",
    "4. Ends in stop codon?\n",
    "5. Complete frame? (Meaning is the length a multiple of 3?)\n",
    "\n",
    "The row index should be the sequence label, and columns should be labeled with descriptions of these 5 criteria I've given you. Be mindful of the datatype you choose for description 3-5."
   ]
  },
  {
   "cell_type": "markdown",
   "metadata": {},
   "source": [
    "### __Imports"
   ]
  },
  {
   "cell_type": "code",
   "execution_count": 1,
   "metadata": {},
   "outputs": [],
   "source": [
    "from Bio import SeqIO\n",
    "import pandas as pd"
   ]
  },
  {
   "cell_type": "markdown",
   "metadata": {},
   "source": [
    "#### Delcare new Seq objects from parsing supplied FASTA file"
   ]
  },
  {
   "cell_type": "code",
   "execution_count": 2,
   "metadata": {},
   "outputs": [],
   "source": [
    "fh = open(\"Mdomestica-pandasLab.fa\",\"r\")\n",
    "newOBJs = SeqIO.to_dict(SeqIO.parse(fh,\"fasta\"))"
   ]
  },
  {
   "cell_type": "code",
   "execution_count": 3,
   "metadata": {},
   "outputs": [
    {
     "data": {
      "text/html": [
       "<div>\n",
       "<style scoped>\n",
       "    .dataframe tbody tr th:only-of-type {\n",
       "        vertical-align: middle;\n",
       "    }\n",
       "\n",
       "    .dataframe tbody tr th {\n",
       "        vertical-align: top;\n",
       "    }\n",
       "\n",
       "    .dataframe thead th {\n",
       "        text-align: right;\n",
       "    }\n",
       "</style>\n",
       "<table border=\"1\" class=\"dataframe\">\n",
       "  <thead>\n",
       "    <tr style=\"text-align: right;\">\n",
       "      <th></th>\n",
       "      <th>0</th>\n",
       "      <th>1</th>\n",
       "    </tr>\n",
       "  </thead>\n",
       "  <tbody>\n",
       "    <tr>\n",
       "      <th>0</th>\n",
       "      <td>MD10G1276500</td>\n",
       "      <td>(C, A, G, T, C, C, G, T, G, G, C, T, C, C, T, ...</td>\n",
       "    </tr>\n",
       "    <tr>\n",
       "      <th>1</th>\n",
       "      <td>MD10G1110200</td>\n",
       "      <td>(A, T, G, G, C, G, T, C, T, C, T, C, T, C, C, ...</td>\n",
       "    </tr>\n",
       "    <tr>\n",
       "      <th>2</th>\n",
       "      <td>MD10G1036500</td>\n",
       "      <td>(A, T, G, T, C, G, T, C, G, T, C, G, T, C, G, ...</td>\n",
       "    </tr>\n",
       "    <tr>\n",
       "      <th>3</th>\n",
       "      <td>MD10G1170700</td>\n",
       "      <td>(A, T, G, T, A, T, C, G, C, T, T, C, G, C, C, ...</td>\n",
       "    </tr>\n",
       "    <tr>\n",
       "      <th>4</th>\n",
       "      <td>MD10G1250900</td>\n",
       "      <td>(A, T, G, G, A, A, G, T, G, T, A, T, G, G, G, ...</td>\n",
       "    </tr>\n",
       "    <tr>\n",
       "      <th>...</th>\n",
       "      <td>...</td>\n",
       "      <td>...</td>\n",
       "    </tr>\n",
       "    <tr>\n",
       "      <th>7491</th>\n",
       "      <td>MD14G1066400</td>\n",
       "      <td>(A, T, G, C, C, A, T, C, G, T, G, G, T, T, C, ...</td>\n",
       "    </tr>\n",
       "    <tr>\n",
       "      <th>7492</th>\n",
       "      <td>MD14G1225900</td>\n",
       "      <td>(A, T, G, G, C, T, T, C, C, C, C, T, A, A, C, ...</td>\n",
       "    </tr>\n",
       "    <tr>\n",
       "      <th>7493</th>\n",
       "      <td>MD14G1120900</td>\n",
       "      <td>(A, T, G, G, A, T, A, A, C, T, C, T, G, C, A, ...</td>\n",
       "    </tr>\n",
       "    <tr>\n",
       "      <th>7494</th>\n",
       "      <td>MD14G1057700</td>\n",
       "      <td>(A, T, G, G, A, A, G, C, T, A, T, C, A, C, T, ...</td>\n",
       "    </tr>\n",
       "    <tr>\n",
       "      <th>7495</th>\n",
       "      <td>MD14G1237500</td>\n",
       "      <td>(A, T, G, G, C, G, G, T, T, G, T, C, A, C, C, ...</td>\n",
       "    </tr>\n",
       "  </tbody>\n",
       "</table>\n",
       "<p>7496 rows × 2 columns</p>\n",
       "</div>"
      ],
      "text/plain": [
       "                 0                                                  1\n",
       "0     MD10G1276500  (C, A, G, T, C, C, G, T, G, G, C, T, C, C, T, ...\n",
       "1     MD10G1110200  (A, T, G, G, C, G, T, C, T, C, T, C, T, C, C, ...\n",
       "2     MD10G1036500  (A, T, G, T, C, G, T, C, G, T, C, G, T, C, G, ...\n",
       "3     MD10G1170700  (A, T, G, T, A, T, C, G, C, T, T, C, G, C, C, ...\n",
       "4     MD10G1250900  (A, T, G, G, A, A, G, T, G, T, A, T, G, G, G, ...\n",
       "...            ...                                                ...\n",
       "7491  MD14G1066400  (A, T, G, C, C, A, T, C, G, T, G, G, T, T, C, ...\n",
       "7492  MD14G1225900  (A, T, G, G, C, T, T, C, C, C, C, T, A, A, C, ...\n",
       "7493  MD14G1120900  (A, T, G, G, A, T, A, A, C, T, C, T, G, C, A, ...\n",
       "7494  MD14G1057700  (A, T, G, G, A, A, G, C, T, A, T, C, A, C, T, ...\n",
       "7495  MD14G1237500  (A, T, G, G, C, G, G, T, T, G, T, C, A, C, C, ...\n",
       "\n",
       "[7496 rows x 2 columns]"
      ]
     },
     "execution_count": 3,
     "metadata": {},
     "output_type": "execute_result"
    }
   ],
   "source": [
    "# myrecDict = {}\n",
    "# for key,vals in newOBJs.items():\n",
    "#     for head, seq in vals.items():\n",
    "#         myrecDict[\"heads\"]=head\n",
    "#         myrecDict[\"seq\"]=seq.seq\n",
    "#         myrecDict[\"seqLen\"]=len(seq.seq)\n",
    "#         myrecDict[\"GCcontent\"]=\"notassginedyet\"\n",
    "#         myrecDict[\"startCodon\"]=False\n",
    "#         myrecDict[\"stopCodon\"]=False\n",
    "#         myrecDict[\"compFrame\"]=False\n",
    "pd.DataFrame(newOBJs.items())\n",
    "pd[\"seqLen\"] = len(pd.)"
   ]
  },
  {
   "cell_type": "code",
   "execution_count": null,
   "metadata": {},
   "outputs": [],
   "source": [
    "mypdRecs"
   ]
  },
  {
   "cell_type": "code",
   "execution_count": null,
   "metadata": {},
   "outputs": [],
   "source": []
  }
 ],
 "metadata": {
  "kernelspec": {
   "display_name": "Python 3",
   "language": "python",
   "name": "python3"
  },
  "language_info": {
   "codemirror_mode": {
    "name": "ipython",
    "version": 3
   },
   "file_extension": ".py",
   "mimetype": "text/x-python",
   "name": "python",
   "nbconvert_exporter": "python",
   "pygments_lexer": "ipython3",
   "version": "3.7.3"
  }
 },
 "nbformat": 4,
 "nbformat_minor": 2
}
