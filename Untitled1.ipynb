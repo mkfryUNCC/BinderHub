{
 "cells": [
  {
   "cell_type": "markdown",
   "metadata": {},
   "source": [
    "\n",
    "\n",
    "Design and write 3 classes: Person, Student, Teacher\n",
    "\n",
    "All three of these should have a name and an age.  Student should also have a GPA field. Teacher should have a list of courses they teach. All three should be able to attend a class.\n",
    "\n",
    "Things to consider: how best to create these classes using inheritance that maximizes shared traits and functions. What is different about how a Person vs a Student vs a Teacher would attend a class (meaning, their role within the room)\n"
   ]
  },
  {
   "cell_type": "code",
   "execution_count": 26,
   "metadata": {},
   "outputs": [],
   "source": [
    "class Person:\n",
    "    def __init__(self, name, age):\n",
    "        self.name = name\n",
    "        self.age = age\n",
    "    def __repr__(self):\n",
    "        return \"my name is \"+ str(self.name)+\", and I'm \"+ str(self.age)\n",
    "    \n",
    "class Teacher(Person):\n",
    "    def __init__(self, name, age, Iteach):\n",
    "        super().__init__(name, age)\n",
    "        self.myclass = Iteach  #list for mutliple instructed \"classes\"\n",
    "      \n",
    "    def __repr__(self):\n",
    "        retstr =\"\"\n",
    "        retstr+=str(self.name)+ \" is a Teacher and teaches:\\n\"\n",
    "        for items in self.myclass:\n",
    "            retstr+=items +\"\\n\"\n",
    "        return retstr\n",
    "        \n",
    "\n",
    "class Student(Person):\n",
    "    \n",
    "    def __init__(self, person):\n",
    "        if isinstance(person,Person):\n",
    "            self.person =person\n",
    "            self.gpa = None\n",
    "        else:\n",
    "            return \"Not a valid Person created\"\n",
    "    def getGPA(self):\n",
    "        if gpa == None:\n",
    "            return \"GPA has not been set\"\n",
    "        else:\n",
    "            self.gpa\n",
    "    \n",
    "    def setGPA(self,NEWgpa):\n",
    "        if type(NEWgpa) == float:\n",
    "            self.gpa = NEWgpa\n",
    "            return str(self.person.name) + \" has a new GPA of \"+str(self.gpa)\n",
    "        else:\n",
    "            return \"GPA has to be of float value like 0.0 - 4.0\"\n",
    "    \n",
    "    def __repr__(self):\n",
    "        if self.gpa == None:\n",
    "            return \"Student Record for: \"+str(self.person.name) + \" and he/she does not have a GPA recorded\"\n",
    "        else:\n",
    "            return \"Student Record for: \"+str(self.person.name) + \" and a GPA of \"+str(self.gpa)\n",
    "        \n",
    "            "
   ]
  },
  {
   "cell_type": "code",
   "execution_count": 28,
   "metadata": {},
   "outputs": [
    {
     "data": {
      "text/plain": [
       "'Bill has a new GPA of 4.0'"
      ]
     },
     "execution_count": 28,
     "metadata": {},
     "output_type": "execute_result"
    }
   ],
   "source": [
    "personA = \n",
    "teach1 = Teacher(\"Bill\",56,[\"art\",\"gym\"])\n",
    "stud1 = Student(teach1)\n",
    "stud1.setGPA(4.0)"
   ]
  },
  {
   "cell_type": "code",
   "execution_count": 29,
   "metadata": {},
   "outputs": [
    {
     "data": {
      "text/plain": [
       "Student Record for: Bill and a GPA of 4.0"
      ]
     },
     "execution_count": 29,
     "metadata": {},
     "output_type": "execute_result"
    }
   ],
   "source": [
    "stud1"
   ]
  },
  {
   "cell_type": "code",
   "execution_count": 30,
   "metadata": {},
   "outputs": [
    {
     "data": {
      "text/plain": [
       "Bill Teacher and teaches:\n",
       "art\n",
       "gym"
      ]
     },
     "execution_count": 30,
     "metadata": {},
     "output_type": "execute_result"
    }
   ],
   "source": [
    "teach1"
   ]
  },
  {
   "cell_type": "code",
   "execution_count": null,
   "metadata": {},
   "outputs": [],
   "source": []
  }
 ],
 "metadata": {
  "celltoolbar": "Edit Metadata",
  "kernelspec": {
   "display_name": "Python 3",
   "language": "python",
   "name": "python3"
  },
  "language_info": {
   "codemirror_mode": {
    "name": "ipython",
    "version": 3
   },
   "file_extension": ".py",
   "mimetype": "text/x-python",
   "name": "python",
   "nbconvert_exporter": "python",
   "pygments_lexer": "ipython3",
   "version": "3.7.1"
  }
 },
 "nbformat": 4,
 "nbformat_minor": 4
}
