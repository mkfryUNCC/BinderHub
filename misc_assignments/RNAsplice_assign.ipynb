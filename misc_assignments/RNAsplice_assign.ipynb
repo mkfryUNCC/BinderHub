{
 "cells": [
  {
   "cell_type": "markdown",
   "metadata": {},
   "source": [
    "#### Matt Fry mkfry@uncc.edu\n",
    "#### <font color='purple'>Rosalind RNA SPLICING</font>\n",
    "##### http://rosalind.info/problems/splc/"
   ]
  },
  {
   "cell_type": "markdown",
   "metadata": {},
   "source": [
    "##### Supplied values and translation dictionary"
   ]
  },
  {
   "cell_type": "code",
   "execution_count": 10,
   "metadata": {},
   "outputs": [],
   "source": [
    "Rosalind_10 =\"ATGGTCTACATAGCTGACAAACAGCACGTAGCAATCGGTCGAATCTCGAGAGGCATATGGTCACATGATCGGTCGAGCGTGTTTCAAAGTTTGCGCCTAG\"\n",
    "Rosalind_12_in=\"ATCGGTCGAA\"\n",
    "Rosalind_15_in=\"ATCGGTCGAGCGTGT\""
   ]
  },
  {
   "cell_type": "code",
   "execution_count": 11,
   "metadata": {},
   "outputs": [],
   "source": [
    "aa_dict = {'M':['ATG'], 'F':['TTT', 'TTC'], 'L':['TTA', 'TTG', 'CTT', 'CTC', 'CTA', 'CTG'], 'C':['TGT', 'TGC'], 'Y':['TAC', 'TAT'], 'W':['TGG'], 'P':['CCT', 'CCC', 'CCA', 'CCG'], 'H':['CAT', 'CAC'],\n",
    "'Q':['CAA', 'CAG'], 'R':['CGT', 'CGC', 'CGA', 'CGG', 'AGA', 'AGG'], 'I':['ATT', 'ATC', 'ATA'], 'T':['ACT', 'ACC', 'ACA', 'ACG'],\n",
    "'N':['AAT', 'AAC'], 'K':['AAA', 'AAG'], 'S':['AGT', 'AGC', 'TCT', 'TCC', 'TCA', 'TCG'], 'V':['GTT', 'GTC', 'GTA', 'GTG'],\n",
    "'A':['GCT', 'GCC', 'GCA', 'GCG'], 'D':['GAT', 'GAC'], 'E':['GAA', 'GAG'], 'G':['GGT', 'GGC', 'GGA', 'GGG'], '*':['TAA','TAG','TGA']}"
   ]
  },
  {
   "cell_type": "markdown",
   "metadata": {},
   "source": [
    "##### __Functions"
   ]
  },
  {
   "cell_type": "code",
   "execution_count": 41,
   "metadata": {},
   "outputs": [],
   "source": [
    "def stringComp(str1,str2):#This function was used for testing \n",
    "    retlist =[]\n",
    "    for i in range(len(str1)):\n",
    "        if str1[i:i+len(str2)] == str2:\n",
    "            retlist.append(i+1)\n",
    "    return retlist\n",
    "def returnTriples(stringy):  #breaks DNA sequence into 3 character item list\n",
    "        triples = [stringy[i:i+3] for i in range(0, len(stringy), 3)]\n",
    "        return triples"
   ]
  },
  {
   "cell_type": "markdown",
   "metadata": {},
   "source": [
    "##### removal of introns and verification"
   ]
  },
  {
   "cell_type": "code",
   "execution_count": 47,
   "metadata": {},
   "outputs": [
    {
     "name": "stdout",
     "output_type": "stream",
     "text": [
      "100 was orignal length\n",
      "75 should be new length\n",
      "75 is new length\n",
      "New string value ATGGTCTACATAGCTGACAAACAGCACGTAGCATCTCGAGAGGCATATGGTCACATGTTCAAAGTTTGCGCCTAG\n"
     ]
    }
   ],
   "source": [
    "RosalindNew = Rosalind_10.replace(Rosalind_15_in,'')\n",
    "RosalindNew = RosalindNew.replace(Rosalind_12_in,'')  #verification of new length before translation\n",
    "print(str(len(Rosalind_10))+\" was orignal length\")\n",
    "print(str(len(Rosalind_10)-(len(Rosalind_12_in)+len(Rosalind_15_in)))+ \" should be new length\")\n",
    "print(str(len(RosalindNew)) + \" is new length\")\n",
    "print(\"New string value \"+RosalindNew)"
   ]
  },
  {
   "cell_type": "markdown",
   "metadata": {},
   "source": [
    "##### Translate to protein"
   ]
  },
  {
   "cell_type": "code",
   "execution_count": 43,
   "metadata": {},
   "outputs": [],
   "source": [
    "RosalindPRO =\"\"\n",
    "if len(RosalindNew)%3 ==0:   #check for even divisablity by 3\n",
    "    for x in returnTriples(RosalindNew):#called return triples to aid in codon iteration\n",
    "        for key,val in aa_dict.items():  #utilize translation dictionary supplied\n",
    "            if x in val:\n",
    "                RosalindPRO+=key              "
   ]
  },
  {
   "cell_type": "code",
   "execution_count": 44,
   "metadata": {},
   "outputs": [
    {
     "data": {
      "text/plain": [
       "'MVYIADKQHVASREAYGHMFKVCA*'"
      ]
     },
     "execution_count": 44,
     "metadata": {},
     "output_type": "execute_result"
    }
   ],
   "source": [
    "RosalindPRO #new protein, the * was not Rosalind output but did translate correctly 'TAG' = *"
   ]
  },
  {
   "cell_type": "code",
   "execution_count": null,
   "metadata": {},
   "outputs": [],
   "source": []
  }
 ],
 "metadata": {
  "kernelspec": {
   "display_name": "Python 3",
   "language": "python",
   "name": "python3"
  },
  "language_info": {
   "codemirror_mode": {
    "name": "ipython",
    "version": 3
   },
   "file_extension": ".py",
   "mimetype": "text/x-python",
   "name": "python",
   "nbconvert_exporter": "python",
   "pygments_lexer": "ipython3",
   "version": "3.7.3"
  }
 },
 "nbformat": 4,
 "nbformat_minor": 4
}
