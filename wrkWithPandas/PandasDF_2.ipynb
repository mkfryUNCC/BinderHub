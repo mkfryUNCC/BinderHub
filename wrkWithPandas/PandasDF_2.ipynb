{
 "cells": [
  {
   "cell_type": "markdown",
   "metadata": {},
   "source": [
    "#### Matt Fry mkfry@uncc.edu\n",
    "#### <font color='purple'>Working with Pandas</font>"
   ]
  },
  {
   "cell_type": "markdown",
   "metadata": {},
   "source": [
    "## Pandas Lab 1\n",
    "For this lab, you will need to read in the provided FASTA file and generate a DataFrame containing the following information for each sequence record:\n",
    "1. Sequence Length\n",
    "2. GC content\n",
    "3. Begins with start codon?\n",
    "4. Ends in stop codon?\n",
    "5. Complete frame? (Meaning is the length a multiple of 3?)\n",
    "\n",
    "The row index should be the sequence label, and columns should be labeled with descriptions of these 5 criteria I've given you. Be mindful of the datatype you choose for description 3-5."
   ]
  },
  {
   "cell_type": "markdown",
   "metadata": {},
   "source": [
    "### PIP installs that might have been performed if python modules are not available added some time magics to check performance of code"
   ]
  },
  {
   "cell_type": "code",
   "execution_count": null,
   "metadata": {},
   "outputs": [],
   "source": [
    "#%pip install biopython\n",
    "#%pip install pandas\n",
    "#import sys\n",
    "#!{sys.executable} -m pip install ipython-autotime"
   ]
  },
  {
   "cell_type": "markdown",
   "metadata": {},
   "source": [
    "### __Imports"
   ]
  },
  {
   "cell_type": "code",
   "execution_count": 1,
   "metadata": {},
   "outputs": [],
   "source": [
    "from Bio import SeqIO\n",
    "import pandas as pd\n",
    "#supplied codon/aa dictionary\n",
    "aa_dict = {'M':['ATG'], 'F':['TTT', 'TTC'], 'L':['TTA', 'TTG', 'CTT', 'CTC', 'CTA', 'CTG'], 'C':['TGT', 'TGC'], 'Y':['TAC', 'TAT'], 'W':['TGG'], 'P':['CCT', 'CCC', 'CCA', 'CCG'], 'H':['CAT', 'CAC'],\n",
    "'Q':['CAA', 'CAG'], 'R':['CGT', 'CGC', 'CGA', 'CGG', 'AGA', 'AGG'], 'I':['ATT', 'ATC', 'ATA'], 'T':['ACT', 'ACC', 'ACA', 'ACG'],\n",
    "'N':['AAT', 'AAC'], 'K':['AAA', 'AAG'], 'S':['AGT', 'AGC', 'TCT', 'TCC', 'TCA', 'TCG'], 'V':['GTT', 'GTC', 'GTA', 'GTG'],\n",
    "'A':['GCT', 'GCC', 'GCA', 'GCG'], 'D':['GAT', 'GAC'], 'E':['GAA', 'GAG'], 'G':['GGT', 'GGC', 'GGA', 'GGG'], '*':['TAA','TAG','TGA']}"
   ]
  },
  {
   "cell_type": "markdown",
   "metadata": {},
   "source": [
    "### __Functions "
   ]
  },
  {
   "cell_type": "code",
   "execution_count": 2,
   "metadata": {},
   "outputs": [],
   "source": [
    "def codoncheckerSTR(stringy):\n",
    "    if len(stringy)==3:\n",
    "        for key,val in aa_dict.items():\n",
    "            if str.upper(stringy) in val:  #Function returns a key entry in aa_dict and @ if fails\n",
    "                return key\n",
    "            else:\n",
    "                return \"@\"\n",
    "    else:\n",
    "        return \"Function needs to be supplied to be 3 chars\"\n",
    "\n",
    "def codoncheckerBool(stringy):\n",
    "    if len(stringy)==3:\n",
    "        for key,val in aa_dict.items():\n",
    "            if str.upper(stringy) in val:#Function checks for 3 chars and returns a boolean if value in dict\n",
    "                return True\n",
    "            else:\n",
    "                return False\n",
    "    else:\n",
    "        return False\n",
    "    \n",
    "def returnTriples(stringy):  #breaks DNA sequence into 3 character item list\n",
    "    triples = [stringy[i:i+3] for i in range(0, len(stringy), 3)]\n",
    "    return triples"
   ]
  },
  {
   "cell_type": "markdown",
   "metadata": {},
   "source": [
    "### Delcare new Seq objects from parsing supplied FASTA file"
   ]
  },
  {
   "cell_type": "code",
   "execution_count": 3,
   "metadata": {},
   "outputs": [
    {
     "name": "stdout",
     "output_type": "stream",
     "text": [
      "CPU times: user 143 ms, sys: 7.88 ms, total: 151 ms\n",
      "Wall time: 150 ms\n"
     ]
    }
   ],
   "source": [
    "%%time\n",
    "fh = open(\"Mdomestica-pandasLab.fa\",\"r\")\n",
    "newOBJs = SeqIO.to_dict(SeqIO.parse(fh,\"fasta\"))#convert to dict for easier dataframe translation"
   ]
  },
  {
   "cell_type": "markdown",
   "metadata": {},
   "source": [
    "### Build new Pandas DataFrame from Dictionary and adding future columns"
   ]
  },
  {
   "cell_type": "code",
   "execution_count": 4,
   "metadata": {},
   "outputs": [
    {
     "name": "stdout",
     "output_type": "stream",
     "text": [
      "CPU times: user 5.81 ms, sys: 4.2 ms, total: 10 ms\n",
      "Wall time: 8.47 ms\n"
     ]
    }
   ],
   "source": [
    "%%time \n",
    "myDF = pd.DataFrame(newOBJs.items(),columns=[\"Label\",\"Seq\"])\n",
    "myDF.set_index(\"Label\",inplace=True)# Setting index to Seq ID\n",
    "#Build columns that will be updated later\n",
    "myDF[\"SeqLen\"]=0  # 1. Sequence Length\n",
    "myDF[\"GCcontent\"]= 0.0000  #2.GC content ratio of \"G\" & \"C\" divided by seq length\n",
    "myDF[\"startCodon\"]=False#3. if a valid start Codon Boolean by checking supplied aa_dict \n",
    "myDF[\"stopCodon\"]=False#4. if a valid end Codon Boolean by checking supplied aa_dict \n",
    "myDF[\"compFrame\"]=False#5. Boolean if divisble by 3 using modulus to check\n",
    "#added coloumns for fun and testing later commented out for better dataframe visablility\n",
    "#myDF['startString3'] =\"AAA\" # Test field to first 3 char\n",
    "#myDF[\"endString3\"]=\"ZZZ\" # Test field to last 3 char\n",
    "#myDF[\"startCodonAA\"]=\"NA\"#return translated AA -@ if not avail\n",
    "#myDF[\"stopCodonAA\"]=\"NA\"#return translated AA -@ if not avail\n",
    "#myDF[\"NumberofValidCodons\"]=0"
   ]
  },
  {
   "cell_type": "code",
   "execution_count": 5,
   "metadata": {},
   "outputs": [
    {
     "data": {
      "text/plain": [
       "Index(['MD10G1276500', 'MD10G1110200', 'MD10G1036500', 'MD10G1170700',\n",
       "       'MD10G1250900', 'MD10G1316600', 'MD10G1188400', 'MD10G1113500',\n",
       "       'MD10G1046100', 'MD10G1288900',\n",
       "       ...\n",
       "       'MD14G1048800', 'MD14G1203800', 'MD14G1121400', 'MD14G1080400',\n",
       "       'MD14G1172500', 'MD14G1066400', 'MD14G1225900', 'MD14G1120900',\n",
       "       'MD14G1057700', 'MD14G1237500'],\n",
       "      dtype='object', name='Label', length=7496)"
      ]
     },
     "execution_count": 5,
     "metadata": {},
     "output_type": "execute_result"
    }
   ],
   "source": [
    "myDF.index #index proof that assigned Label "
   ]
  },
  {
   "cell_type": "markdown",
   "metadata": {},
   "source": [
    "### Parsing through new Dataframe object, updating values"
   ]
  },
  {
   "cell_type": "code",
   "execution_count": 6,
   "metadata": {},
   "outputs": [
    {
     "name": "stdout",
     "output_type": "stream",
     "text": [
      "CPU times: user 2.25 s, sys: 3.64 ms, total: 2.25 s\n",
      "Wall time: 2.25 s\n"
     ]
    }
   ],
   "source": [
    "%%time\n",
    "for indx in myDF.index:\n",
    "        L=len(str(myDF.loc[indx,\"Seq\"].seq)) #determine seq length and store for recalling with ease\n",
    "        myDF.at[indx,\"SeqLen\"]=L  #set seq length\n",
    "        ctr = 0\n",
    "        for i in str(myDF.loc[indx,\"Seq\"].seq): #iterate through chars in seq for GC\n",
    "            if i == \"C\" or i==\"G\":\n",
    "                ctr+=1\n",
    "        myDF.at[indx,\"GCcontent\"]=ctr/L #set GC raito value\n",
    "        #myDF.at[indx,\"startString3\"]=str(myDF.loc[indx,\"Seq\"].seq[0:3])  #first 3 chars of seq\n",
    "        myDF.at[indx,\"startCodon\"]=codoncheckerBool(str(myDF.loc[indx,\"Seq\"].seq)[0:3]) #boolean check if start is valid DNA codon\n",
    "        #myDF.at[indx,\"startCodonAA\"]=codoncheckerSTR(str(myDF.loc[indx,\"Seq\"].seq)[0:3]) #use codonchecker function to return in aa dictionary\n",
    "        #myDF.at[indx,\"endString3\"]=str(myDF.loc[indx,\"Seq\"].seq)[L-3:L] #last 3 chars of seq\n",
    "        myDF.at[indx,\"stopCodon\"]=codoncheckerBool(str(myDF.loc[indx,\"Seq\"].seq)[L-3:L]) #boolean check if end is valid DNA codon\n",
    "        #myDF.at[indx,\"stopCodonAA\"]=codoncheckerSTR(str(myDF.loc[indx,\"Seq\"].seq)[L-3:L])#use codoncheck function to return in aa dictionary\n",
    "               \n",
    "        if L%3 == 0:  #determine complete dna frame\n",
    "            myDF.at[indx,\"compFrame\"]=True\n",
    "        else:\n",
    "            myDF.at[indx,\"compFrame\"]=False"
   ]
  },
  {
   "cell_type": "markdown",
   "metadata": {},
   "source": [
    "### DataFrame output"
   ]
  },
  {
   "cell_type": "code",
   "execution_count": 7,
   "metadata": {},
   "outputs": [
    {
     "name": "stdout",
     "output_type": "stream",
     "text": [
      "CPU times: user 2 µs, sys: 0 ns, total: 2 µs\n",
      "Wall time: 5.48 µs\n"
     ]
    },
    {
     "data": {
      "text/html": [
       "<div>\n",
       "<style scoped>\n",
       "    .dataframe tbody tr th:only-of-type {\n",
       "        vertical-align: middle;\n",
       "    }\n",
       "\n",
       "    .dataframe tbody tr th {\n",
       "        vertical-align: top;\n",
       "    }\n",
       "\n",
       "    .dataframe thead th {\n",
       "        text-align: right;\n",
       "    }\n",
       "</style>\n",
       "<table border=\"1\" class=\"dataframe\">\n",
       "  <thead>\n",
       "    <tr style=\"text-align: right;\">\n",
       "      <th></th>\n",
       "      <th>Seq</th>\n",
       "      <th>SeqLen</th>\n",
       "      <th>GCcontent</th>\n",
       "      <th>startCodon</th>\n",
       "      <th>stopCodon</th>\n",
       "      <th>compFrame</th>\n",
       "    </tr>\n",
       "    <tr>\n",
       "      <th>Label</th>\n",
       "      <th></th>\n",
       "      <th></th>\n",
       "      <th></th>\n",
       "      <th></th>\n",
       "      <th></th>\n",
       "      <th></th>\n",
       "    </tr>\n",
       "  </thead>\n",
       "  <tbody>\n",
       "    <tr>\n",
       "      <th>MD10G1276500</th>\n",
       "      <td>(C, A, G, T, C, C, G, T, G, G, C, T, C, C, T, ...</td>\n",
       "      <td>2940</td>\n",
       "      <td>0.460544</td>\n",
       "      <td>False</td>\n",
       "      <td>False</td>\n",
       "      <td>True</td>\n",
       "    </tr>\n",
       "    <tr>\n",
       "      <th>MD10G1110200</th>\n",
       "      <td>(A, T, G, G, C, G, T, C, T, C, T, C, T, C, C, ...</td>\n",
       "      <td>1731</td>\n",
       "      <td>0.464471</td>\n",
       "      <td>True</td>\n",
       "      <td>False</td>\n",
       "      <td>True</td>\n",
       "    </tr>\n",
       "    <tr>\n",
       "      <th>MD10G1036500</th>\n",
       "      <td>(A, T, G, T, C, G, T, C, G, T, C, G, T, C, G, ...</td>\n",
       "      <td>468</td>\n",
       "      <td>0.544872</td>\n",
       "      <td>True</td>\n",
       "      <td>False</td>\n",
       "      <td>True</td>\n",
       "    </tr>\n",
       "    <tr>\n",
       "      <th>MD10G1170700</th>\n",
       "      <td>(A, T, G, T, A, T, C, G, C, T, T, C, G, C, C, ...</td>\n",
       "      <td>1728</td>\n",
       "      <td>0.446759</td>\n",
       "      <td>True</td>\n",
       "      <td>False</td>\n",
       "      <td>True</td>\n",
       "    </tr>\n",
       "    <tr>\n",
       "      <th>MD10G1250900</th>\n",
       "      <td>(A, T, G, G, A, A, G, T, G, T, A, T, G, G, G, ...</td>\n",
       "      <td>1278</td>\n",
       "      <td>0.402973</td>\n",
       "      <td>True</td>\n",
       "      <td>False</td>\n",
       "      <td>True</td>\n",
       "    </tr>\n",
       "    <tr>\n",
       "      <th>...</th>\n",
       "      <td>...</td>\n",
       "      <td>...</td>\n",
       "      <td>...</td>\n",
       "      <td>...</td>\n",
       "      <td>...</td>\n",
       "      <td>...</td>\n",
       "    </tr>\n",
       "    <tr>\n",
       "      <th>MD14G1066400</th>\n",
       "      <td>(A, T, G, C, C, A, T, C, G, T, G, G, T, T, C, ...</td>\n",
       "      <td>423</td>\n",
       "      <td>0.529551</td>\n",
       "      <td>True</td>\n",
       "      <td>False</td>\n",
       "      <td>True</td>\n",
       "    </tr>\n",
       "    <tr>\n",
       "      <th>MD14G1225900</th>\n",
       "      <td>(A, T, G, G, C, T, T, C, C, C, C, T, A, A, C, ...</td>\n",
       "      <td>594</td>\n",
       "      <td>0.503367</td>\n",
       "      <td>True</td>\n",
       "      <td>False</td>\n",
       "      <td>True</td>\n",
       "    </tr>\n",
       "    <tr>\n",
       "      <th>MD14G1120900</th>\n",
       "      <td>(A, T, G, G, A, T, A, A, C, T, C, T, G, C, A, ...</td>\n",
       "      <td>939</td>\n",
       "      <td>0.481363</td>\n",
       "      <td>True</td>\n",
       "      <td>False</td>\n",
       "      <td>True</td>\n",
       "    </tr>\n",
       "    <tr>\n",
       "      <th>MD14G1057700</th>\n",
       "      <td>(A, T, G, G, A, A, G, C, T, A, T, C, A, C, T, ...</td>\n",
       "      <td>483</td>\n",
       "      <td>0.523810</td>\n",
       "      <td>True</td>\n",
       "      <td>False</td>\n",
       "      <td>True</td>\n",
       "    </tr>\n",
       "    <tr>\n",
       "      <th>MD14G1237500</th>\n",
       "      <td>(A, T, G, G, C, G, G, T, T, G, T, C, A, C, C, ...</td>\n",
       "      <td>3270</td>\n",
       "      <td>0.442202</td>\n",
       "      <td>True</td>\n",
       "      <td>False</td>\n",
       "      <td>True</td>\n",
       "    </tr>\n",
       "  </tbody>\n",
       "</table>\n",
       "<p>7496 rows × 6 columns</p>\n",
       "</div>"
      ],
      "text/plain": [
       "                                                            Seq  SeqLen  \\\n",
       "Label                                                                     \n",
       "MD10G1276500  (C, A, G, T, C, C, G, T, G, G, C, T, C, C, T, ...    2940   \n",
       "MD10G1110200  (A, T, G, G, C, G, T, C, T, C, T, C, T, C, C, ...    1731   \n",
       "MD10G1036500  (A, T, G, T, C, G, T, C, G, T, C, G, T, C, G, ...     468   \n",
       "MD10G1170700  (A, T, G, T, A, T, C, G, C, T, T, C, G, C, C, ...    1728   \n",
       "MD10G1250900  (A, T, G, G, A, A, G, T, G, T, A, T, G, G, G, ...    1278   \n",
       "...                                                         ...     ...   \n",
       "MD14G1066400  (A, T, G, C, C, A, T, C, G, T, G, G, T, T, C, ...     423   \n",
       "MD14G1225900  (A, T, G, G, C, T, T, C, C, C, C, T, A, A, C, ...     594   \n",
       "MD14G1120900  (A, T, G, G, A, T, A, A, C, T, C, T, G, C, A, ...     939   \n",
       "MD14G1057700  (A, T, G, G, A, A, G, C, T, A, T, C, A, C, T, ...     483   \n",
       "MD14G1237500  (A, T, G, G, C, G, G, T, T, G, T, C, A, C, C, ...    3270   \n",
       "\n",
       "              GCcontent  startCodon  stopCodon  compFrame  \n",
       "Label                                                      \n",
       "MD10G1276500   0.460544       False      False       True  \n",
       "MD10G1110200   0.464471        True      False       True  \n",
       "MD10G1036500   0.544872        True      False       True  \n",
       "MD10G1170700   0.446759        True      False       True  \n",
       "MD10G1250900   0.402973        True      False       True  \n",
       "...                 ...         ...        ...        ...  \n",
       "MD14G1066400   0.529551        True      False       True  \n",
       "MD14G1225900   0.503367        True      False       True  \n",
       "MD14G1120900   0.481363        True      False       True  \n",
       "MD14G1057700   0.523810        True      False       True  \n",
       "MD14G1237500   0.442202        True      False       True  \n",
       "\n",
       "[7496 rows x 6 columns]"
      ]
     },
     "execution_count": 7,
     "metadata": {},
     "output_type": "execute_result"
    }
   ],
   "source": [
    "%time myDF  #output of DataFrame"
   ]
  }
 ],
 "metadata": {
  "kernelspec": {
   "display_name": "Python 3",
   "language": "python",
   "name": "python3"
  },
  "language_info": {
   "codemirror_mode": {
    "name": "ipython",
    "version": 3
   },
   "file_extension": ".py",
   "mimetype": "text/x-python",
   "name": "python",
   "nbconvert_exporter": "python",
   "pygments_lexer": "ipython3",
   "version": "3.7.3"
  }
 },
 "nbformat": 4,
 "nbformat_minor": 2
}
