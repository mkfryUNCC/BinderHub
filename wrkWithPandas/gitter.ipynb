{
 "cells": [
  {
   "cell_type": "code",
   "execution_count": 1,
   "metadata": {},
   "outputs": [
    {
     "name": "stderr",
     "output_type": "stream",
     "text": [
      "D:\\Anaconda\\lib\\site-packages\\rpy2\\robjects\\pandas2ri.py:17: FutureWarning: pandas.core.index is deprecated and will be removed in a future version.  The public classes are available in the top-level namespace.\n",
      "  from pandas.core.index import Index as PandasIndex\n"
     ]
    }
   ],
   "source": [
    "import pandas as pd\n",
    "%load_ext rpy2.ipython"
   ]
  },
  {
   "cell_type": "code",
   "execution_count": 2,
   "metadata": {},
   "outputs": [],
   "source": [
    "def readMultilineFASTA(file):\n",
    "\n",
    "\tfh = open(file)\n",
    "\n",
    "\tname = None\n",
    "\tseq = \"\"\n",
    "\n",
    "\n",
    "\tfor line in fh:\n",
    "\t\tif line.startswith(\">\"):\n",
    "\t\t\tif name:\n",
    "\t\t\t\t\n",
    "\t\t\t\tyield (name,seq)\n",
    "\t\t\t\tname = None\n",
    "\t\t\t\tseq = \"\"\n",
    "\n",
    "\t\t\tname = line.rstrip().lstrip(\">\")\n",
    "\n",
    "\t\telse:\n",
    "\t\t\tseq += line.rstrip()\n",
    "\t\t\t\n",
    "\n",
    "\tyield name,seq"
   ]
  },
  {
   "cell_type": "code",
   "execution_count": 3,
   "metadata": {},
   "outputs": [],
   "source": [
    "def gc(seq):\n",
    "    count = 0\n",
    "    for c in seq:\n",
    "        if c == \"G\" or c ==\"C\":\n",
    "            count += 1\n",
    "    return count / len(seq)"
   ]
  },
  {
   "cell_type": "code",
   "execution_count": 21,
   "metadata": {},
   "outputs": [],
   "source": [
    "file = \"D:\\Downloads\\Mdomestica_491_v1.1.cds_primaryTranscriptOnly.fa\"\n",
    "\n",
    "d = {\"seq_name\":[],\"seq_len\":[]}\n",
    "lst = [[],[],[]]\n",
    "\n",
    "\n",
    "for name,seq in readMultilineFASTA(file):\n",
    "    d[\"seq_name\"].append(name.split()[0])\n",
    "    d[\"seq_len\"].append(len(seq))\n",
    "    lst[0].append(name.split()[0])\n",
    "    lst[1].append(len(seq))\n",
    "    lst[2].append(gc(seq))\n",
    "    \n",
    "genes = pd.DataFrame(d)\n",
    "genes.dtypes\n",
    "geneLen = genes[\"seq_len\"]\n",
    "\n",
    "lens = lst[1]\n",
    "gcp = lst[2]"
   ]
  },
  {
   "cell_type": "code",
   "execution_count": 14,
   "metadata": {},
   "outputs": [
    {
     "data": {
      "image/png": "[encoded data removed]"
     },
     "metadata": {},
     "output_type": "display_data"
    }
   ],
   "source": [
    "%%R -i geneLen\n",
    "d<-density(geneLen)\n",
    "plot(d)"
   ]
  },
  {
   "cell_type": "code",
   "execution_count": 28,
   "metadata": {},
   "outputs": [
    {
     "data": {
      "image/png": "[encoded data removed]"
     },
     "metadata": {},
     "output_type": "display_data"
    }
   ],
   "source": [
    "%%R -i lens,gcp\n",
    "plot(lens,gcp,type=\"p\")"
   ]
  },
  {
   "cell_type": "code",
   "execution_count": 42,
   "metadata": {},
   "outputs": [
    {
     "data": {
      "image/png": "[encoded data removed]"
     },
     "metadata": {},
     "output_type": "display_data"
    }
   ],
   "source": [
    "%%R -i lens,gcp\n",
    "library(ggplot2)\n",
    "ggplot() + geom_point(aes(x=as.numeric(lens),y=as.numeric(gcp),z=1))\n",
    "#The reason this didn't work before is because of the vector format during the import step\n",
    "#The vector format for the lists was a \"factor\" vector, when it needed to be numeric. \n",
    "#Using \"as.numeric\" forces a conversion and allows us to plot the data\n"
   ]
  },
  {
   "cell_type": "code",
   "execution_count": null,
   "metadata": {},
   "outputs": [],
   "source": []
  }
 ],
 "metadata": {
  "kernelspec": {
   "display_name": "Python 3",
   "language": "python",
   "name": "python3"
  },
  "language_info": {
   "codemirror_mode": {
    "name": "ipython",
    "version": 3
   },
   "file_extension": ".py",
   "mimetype": "text/x-python",
   "name": "python",
   "nbconvert_exporter": "python",
   "pygments_lexer": "ipython3",
   "version": "3.7.7"
  }
 },
 "nbformat": 4,
 "nbformat_minor": 4
}
