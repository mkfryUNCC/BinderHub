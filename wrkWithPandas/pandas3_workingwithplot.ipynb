{
 "cells": [
  {
   "cell_type": "code",
   "execution_count": 34,
   "metadata": {},
   "outputs": [
    {
     "name": "stdout",
     "output_type": "stream",
     "text": [
      "Collecting matplotlib\n",
      "  Downloading matplotlib-3.2.0-cp37-cp37m-manylinux1_x86_64.whl (12.4 MB)\n",
      "\u001b[K     |████████████████████████████████| 12.4 MB 3.4 MB/s eta 0:00:01\n",
      "\u001b[?25hCollecting kiwisolver>=1.0.1\n",
      "  Downloading kiwisolver-1.1.0-cp37-cp37m-manylinux1_x86_64.whl (90 kB)\n",
      "\u001b[K     |████████████████████████████████| 90 kB 11.6 MB/s eta 0:00:01\n",
      "\u001b[?25hRequirement already satisfied: python-dateutil>=2.1 in /srv/conda/envs/notebook/lib/python3.7/site-packages (from matplotlib) (2.8.1)\n",
      "Requirement already satisfied: numpy>=1.11 in /srv/conda/envs/notebook/lib/python3.7/site-packages (from matplotlib) (1.18.1)\n",
      "Collecting cycler>=0.10\n",
      "  Downloading cycler-0.10.0-py2.py3-none-any.whl (6.5 kB)\n",
      "Collecting pyparsing!=2.0.4,!=2.1.2,!=2.1.6,>=2.0.1\n",
      "  Downloading pyparsing-2.4.6-py2.py3-none-any.whl (67 kB)\n",
      "\u001b[K     |████████████████████████████████| 67 kB 9.1 MB/s  eta 0:00:01\n",
      "\u001b[?25hRequirement already satisfied: setuptools in /srv/conda/envs/notebook/lib/python3.7/site-packages (from kiwisolver>=1.0.1->matplotlib) (45.1.0.post20200119)\n",
      "Requirement already satisfied: six>=1.5 in /srv/conda/envs/notebook/lib/python3.7/site-packages (from python-dateutil>=2.1->matplotlib) (1.14.0)\n",
      "Installing collected packages: kiwisolver, cycler, pyparsing, matplotlib\n",
      "Successfully installed cycler-0.10.0 kiwisolver-1.1.0 matplotlib-3.2.0 pyparsing-2.4.6\n"
     ]
    }
   ],
   "source": [
    "#import sys\n",
    "#!{sys.executable} -m pip install pandas\n",
    "#!{sys.executable} -m pip install matplotlib"
   ]
  },
  {
   "cell_type": "markdown",
   "metadata": {},
   "source": [
    "#### Matt Fry mkfry@uncc.edu\n",
    "#### <font color='purple'>Working with Pandas _3 - COVID19 datasets</font>"
   ]
  },
  {
   "cell_type": "code",
   "execution_count": 11,
   "metadata": {},
   "outputs": [
    {
     "name": "stdout",
     "output_type": "stream",
     "text": [
      "college.csv              time_series_19-covid-Confirmed.csv\r\n",
      "Mdomestica-pandasLab.fa  time_series_19-covid-Deaths.csv\r\n",
      "PandasDF_2.ipynb         time_series_19-covid-Recovered.csv\r\n",
      "PandasLab.ipynb\r\n"
     ]
    }
   ],
   "source": [
    "ls"
   ]
  },
  {
   "cell_type": "code",
   "execution_count": 10,
   "metadata": {},
   "outputs": [
    {
     "name": "stdout",
     "output_type": "stream",
     "text": [
      "/home/jovyan/wrkWithPandas\n"
     ]
    }
   ],
   "source": [
    "%cd wrkWithPandas/"
   ]
  },
  {
   "cell_type": "code",
   "execution_count": 12,
   "metadata": {},
   "outputs": [],
   "source": [
    "import pandas as pd\n",
    "path =\"\"\n",
    "\n",
    "confirmed = pd.read_csv(path + \"time_series_19-covid-Confirmed.csv\")\n",
    "deaths = pd.read_csv(path + \"time_series_19-covid-Deaths.csv\")\n",
    "recovered = pd.read_csv(path + \"time_series_19-covid-Recovered.csv\")"
   ]
  },
  {
   "cell_type": "code",
   "execution_count": 14,
   "metadata": {},
   "outputs": [],
   "source": [
    "confirmed_US = confirmed[confirmed[\"Country/Region\"]==\"US\"]"
   ]
  },
  {
   "cell_type": "code",
   "execution_count": 18,
   "metadata": {},
   "outputs": [
    {
     "data": {
      "text/plain": [
       "35            King County, WA\n",
       "36            Cook County, IL\n",
       "45            Los Angeles, CA\n",
       "62             San Benito, CA\n",
       "64                Madison, WI\n",
       "                ...          \n",
       "261         Collin County, TX\n",
       "262      Jefferson County, KY\n",
       "263      Jefferson Parish, LA\n",
       "264         Shasta County, CA\n",
       "265    Spartanburg County, SC\n",
       "Name: Province/State, Length: 116, dtype: object"
      ]
     },
     "execution_count": 18,
     "metadata": {},
     "output_type": "execute_result"
    }
   ],
   "source": [
    "confirmed_US[\"Province/State\"]"
   ]
  },
  {
   "cell_type": "code",
   "execution_count": 22,
   "metadata": {},
   "outputs": [
    {
     "name": "stderr",
     "output_type": "stream",
     "text": [
      "/srv/conda/envs/notebook/lib/python3.7/site-packages/ipykernel_launcher.py:1: SettingWithCopyWarning: \n",
      "A value is trying to be set on a copy of a slice from a DataFrame.\n",
      "Try using .loc[row_indexer,col_indexer] = value instead\n",
      "\n",
      "See the caveats in the documentation: https://pandas.pydata.org/pandas-docs/stable/user_guide/indexing.html#returning-a-view-versus-a-copy\n",
      "  \"\"\"Entry point for launching an IPython kernel.\n"
     ]
    }
   ],
   "source": [
    "confirmed_US[\"State\"]=confirmed_US[\"Province/State\"].str.split(\",\",n=2,expand=True)[1]"
   ]
  },
  {
   "cell_type": "code",
   "execution_count": 40,
   "metadata": {},
   "outputs": [
    {
     "data": {
      "text/plain": [
       "<matplotlib.axes._subplots.AxesSubplot at 0x7fbd5d888050>"
      ]
     },
     "execution_count": 40,
     "metadata": {},
     "output_type": "execute_result"
    },
    {
     "data": {
      "image/png": "[encoded data removed]",
      "text/plain": [
       "<Figure size 432x288 with 1 Axes>"
      ]
     },
     "metadata": {
      "needs_background": "light"
     },
     "output_type": "display_data"
    }
   ],
   "source": [
    "confirmedByState = confirmed_US.iloc[:,4:53].groupby(\"State\").sum()  # the \":\"\" can be integer slices to pull back mulitple rows like 4 - 53\n",
    "confirmedByState.sort_values(by=\"3/9/20\",ascending=False,inplace=True)\n",
    "confirmedByState.head().T.plot()"
   ]
  },
  {
   "cell_type": "markdown",
   "metadata": {},
   "source": [
    "##### <font color = 'red'>notice the \"T\" inrealtion to matplotlib \"confirmedByState.head().T.plot()\" - it transposes the axis in the graph</font>"
   ]
  },
  {
   "cell_type": "code",
   "execution_count": 44,
   "metadata": {},
   "outputs": [
    {
     "data": {
      "text/plain": [
       "<matplotlib.axes._subplots.AxesSubplot at 0x7fbd5d73e110>"
      ]
     },
     "execution_count": 44,
     "metadata": {},
     "output_type": "execute_result"
    },
    {
     "data": {
      "image/png": "[encoded data removed]",
      "text/plain": [
       "<Figure size 432x288 with 1 Axes>"
      ]
     },
     "metadata": {
      "needs_background": "light"
     },
     "output_type": "display_data"
    }
   ],
   "source": [
    "confirmedByState.head().T.plot(kind=\"area\")"
   ]
  },
  {
   "cell_type": "code",
   "execution_count": 55,
   "metadata": {},
   "outputs": [
    {
     "data": {
      "text/html": [
       "<div>\n",
       "<style scoped>\n",
       "    .dataframe tbody tr th:only-of-type {\n",
       "        vertical-align: middle;\n",
       "    }\n",
       "\n",
       "    .dataframe tbody tr th {\n",
       "        vertical-align: top;\n",
       "    }\n",
       "\n",
       "    .dataframe thead th {\n",
       "        text-align: right;\n",
       "    }\n",
       "</style>\n",
       "<table border=\"1\" class=\"dataframe\">\n",
       "  <thead>\n",
       "    <tr style=\"text-align: right;\">\n",
       "      <th>State</th>\n",
       "      <th>NY</th>\n",
       "      <th>WA</th>\n",
       "      <th>CA</th>\n",
       "      <th>MA</th>\n",
       "      <th>TX</th>\n",
       "    </tr>\n",
       "    <tr>\n",
       "      <th>index</th>\n",
       "      <th></th>\n",
       "      <th></th>\n",
       "      <th></th>\n",
       "      <th></th>\n",
       "      <th></th>\n",
       "    </tr>\n",
       "  </thead>\n",
       "  <tbody>\n",
       "    <tr>\n",
       "      <th>3/2/20</th>\n",
       "      <td>0.023810</td>\n",
       "      <td>0.428571</td>\n",
       "      <td>0.500000</td>\n",
       "      <td>0.023810</td>\n",
       "      <td>0.023810</td>\n",
       "    </tr>\n",
       "    <tr>\n",
       "      <th>3/3/20</th>\n",
       "      <td>0.035088</td>\n",
       "      <td>0.473684</td>\n",
       "      <td>0.438596</td>\n",
       "      <td>0.035088</td>\n",
       "      <td>0.017544</td>\n",
       "    </tr>\n",
       "    <tr>\n",
       "      <th>3/4/20</th>\n",
       "      <td>0.125000</td>\n",
       "      <td>0.443182</td>\n",
       "      <td>0.397727</td>\n",
       "      <td>0.022727</td>\n",
       "      <td>0.011364</td>\n",
       "    </tr>\n",
       "    <tr>\n",
       "      <th>3/5/20</th>\n",
       "      <td>0.153333</td>\n",
       "      <td>0.466667</td>\n",
       "      <td>0.340000</td>\n",
       "      <td>0.013333</td>\n",
       "      <td>0.026667</td>\n",
       "    </tr>\n",
       "    <tr>\n",
       "      <th>3/6/20</th>\n",
       "      <td>0.189474</td>\n",
       "      <td>0.436842</td>\n",
       "      <td>0.310526</td>\n",
       "      <td>0.036842</td>\n",
       "      <td>0.026316</td>\n",
       "    </tr>\n",
       "    <tr>\n",
       "      <th>3/7/20</th>\n",
       "      <td>0.271429</td>\n",
       "      <td>0.382143</td>\n",
       "      <td>0.289286</td>\n",
       "      <td>0.025000</td>\n",
       "      <td>0.032143</td>\n",
       "    </tr>\n",
       "    <tr>\n",
       "      <th>3/8/20</th>\n",
       "      <td>0.288043</td>\n",
       "      <td>0.347826</td>\n",
       "      <td>0.266304</td>\n",
       "      <td>0.065217</td>\n",
       "      <td>0.032609</td>\n",
       "    </tr>\n",
       "    <tr>\n",
       "      <th>3/9/20</th>\n",
       "      <td>0.344660</td>\n",
       "      <td>0.310680</td>\n",
       "      <td>0.252427</td>\n",
       "      <td>0.058252</td>\n",
       "      <td>0.033981</td>\n",
       "    </tr>\n",
       "  </tbody>\n",
       "</table>\n",
       "</div>"
      ],
      "text/plain": [
       "State         NY        WA        CA        MA        TX\n",
       "index                                                   \n",
       "3/2/20  0.023810  0.428571  0.500000  0.023810  0.023810\n",
       "3/3/20  0.035088  0.473684  0.438596  0.035088  0.017544\n",
       "3/4/20  0.125000  0.443182  0.397727  0.022727  0.011364\n",
       "3/5/20  0.153333  0.466667  0.340000  0.013333  0.026667\n",
       "3/6/20  0.189474  0.436842  0.310526  0.036842  0.026316\n",
       "3/7/20  0.271429  0.382143  0.289286  0.025000  0.032143\n",
       "3/8/20  0.288043  0.347826  0.266304  0.065217  0.032609\n",
       "3/9/20  0.344660  0.310680  0.252427  0.058252  0.033981"
      ]
     },
     "execution_count": 55,
     "metadata": {},
     "output_type": "execute_result"
    }
   ],
   "source": [
    "CBS_top = confirmedByState.head().T\n",
    "CBS_top_recent = CBS_top.reset_index().loc[40:47]\n",
    "CBS_top_recent = CBS_top_recent.set_index(\"index\")\n",
    "row_total = CBS_top_recent.sum(axis=\"columns\")\n",
    "CBS_proportions = CBS_top_recent.div(row_total, axis=\"index\")\n",
    "CBS_proportions\n"
   ]
  },
  {
   "cell_type": "code",
   "execution_count": 59,
   "metadata": {},
   "outputs": [
    {
     "data": {
      "text/plain": [
       "<matplotlib.axes._subplots.AxesSubplot at 0x7fbd5d3db1d0>"
      ]
     },
     "execution_count": 59,
     "metadata": {},
     "output_type": "execute_result"
    },
    {
     "data": {
      "image/png": "[encoded data removed]",
      "text/plain": [
       "<Figure size 1296x288 with 1 Axes>"
      ]
     },
     "metadata": {
      "needs_background": "light"
     },
     "output_type": "display_data"
    }
   ],
   "source": [
    "plt = CBS_proportions.plot(kind=\"area\",figsize =(18,4),cmap=\"Reds\",ylim=(0,1))\n",
    "plt.figure.suptitle(\"Proportion of confirmed cases of COVID-19 by Top 5 in US states\")\n",
    "plt.set_xlabel(\"Date\")\n",
    "plt"
   ]
  },
  {
   "cell_type": "code",
   "execution_count": null,
   "metadata": {},
   "outputs": [],
   "source": []
  }
 ],
 "metadata": {
  "kernelspec": {
   "display_name": "Python 3",
   "language": "python",
   "name": "python3"
  },
  "language_info": {
   "codemirror_mode": {
    "name": "ipython",
    "version": 3
   },
   "file_extension": ".py",
   "mimetype": "text/x-python",
   "name": "python",
   "nbconvert_exporter": "python",
   "pygments_lexer": "ipython3",
   "version": "3.7.1"
  }
 },
 "nbformat": 4,
 "nbformat_minor": 2
}
